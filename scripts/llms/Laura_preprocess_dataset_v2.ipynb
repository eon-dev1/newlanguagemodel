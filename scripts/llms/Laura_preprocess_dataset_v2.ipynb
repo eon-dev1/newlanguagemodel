{
 "cells": [
  {
   "cell_type": "markdown",
   "metadata": {},
   "source": [
    "Code to take in preprocessed data from silnlp, format it into json format for LLMs"
   ]
  },
  {
   "cell_type": "code",
   "execution_count": null,
   "metadata": {},
   "outputs": [],
   "source": [
    "import json\n",
    "\n",
    "# Prepare data for a casual LLM\n",
    "#\n",
    "# src_file_path (string): location of src file\n",
    "# trg_file_path (string): location of trg file\n",
    "# output_file_path (string): location to save prepared json file\n",
    "# src (string): language/script tag (e.g., eng_Latn) for src data\n",
    "# trg (string): language/script tag (e.g., eng_Latn) for trg data\n",
    "#\n",
    "def prepare_data_for_causal_llm(src_file_path, trg_file_path, output_file_path,src,trg):\n",
    "    with open(src_file_path, 'r', encoding='utf-8') as src_file, open(trg_file_path, 'r', encoding='utf-8') as trg_file:\n",
    "        src_sentences = src_file.readlines()\n",
    "        trg_sentences = trg_file.readlines()\n",
    "\n",
    "        assert len(src_sentences) == len(trg_sentences), \"Files must have the same number of lines\"\n",
    "\n",
    "        with open(output_file_path, 'w') as output_file:\n",
    "            for src_sentence, trg_sentence in zip(src_sentences, trg_sentences):\n",
    "                # Combine src and trg for model input\n",
    "                model_input = f\"translate \"+src+\" to \"+trg+\": \"+src_sentence.strip()# + \" \" + trg_sentence.strip()\n",
    "                completion = f\"{trg_sentence.strip()}\\r\\n\"\n",
    "                data = {\n",
    "                    \"model_inputs\": model_input,\n",
    "                    \"completion\": completion\n",
    "                }\n",
    "                json.dump(data, output_file)\n",
    "                output_file.write(\"\\n\")"
   ]
  },
  {
   "cell_type": "code",
   "execution_count": null,
   "metadata": {},
   "outputs": [],
   "source": []
  }
 ],
 "metadata": {
  "kernelspec": {
   "display_name": "base",
   "language": "python",
   "name": "python3"
  },
  "language_info": {
   "codemirror_mode": {
    "name": "ipython",
    "version": 3
   },
   "file_extension": ".py",
   "mimetype": "text/x-python",
   "name": "python",
   "nbconvert_exporter": "python",
   "pygments_lexer": "ipython3",
   "version": "3.12.2"
  }
 },
 "nbformat": 4,
 "nbformat_minor": 2
}
