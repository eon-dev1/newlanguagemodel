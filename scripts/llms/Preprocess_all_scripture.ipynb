{
 "cells": [
  {
   "cell_type": "code",
   "execution_count": 1,
   "metadata": {},
   "outputs": [
    {
     "name": "stdout",
     "output_type": "stream",
     "text": [
      "Before processing - number of Bibles: 3474\n"
     ]
    },
    {
     "data": {
      "application/vnd.jupyter.widget-view+json": {
       "model_id": "9cb990c8ca544bc2ae0e652fa9b4091b",
       "version_major": 2,
       "version_minor": 0
      },
      "text/plain": [
       "  0%|          | 0/3474 [00:00<?, ?it/s]"
      ]
     },
     "metadata": {},
     "output_type": "display_data"
    },
    {
     "name": "stdout",
     "output_type": "stream",
     "text": [
      "After processing - final number of Bibles: 3130\n",
      "Number of unknown languags: 13\n"
     ]
    }
   ],
   "source": [
    "# Load all bibles\n",
    "# Takes about 3 minutes\n",
    "\n",
    "from os import listdir\n",
    "from os.path import isfile, join\n",
    "from tqdm.notebook import tqdm\n",
    "from iso639 import Lang\n",
    "\n",
    "path = \"/Users/laura/llmResearch/scripture/\"\n",
    "files = [f for f in listdir(path) if isfile(join(path, f))]\n",
    "print('Before processing - number of Bibles:',len(files))\n",
    "\n",
    "bibles = []\n",
    "languages = []\n",
    "filepaths = []\n",
    "\n",
    "# Don't include the languages we want to test on\n",
    "test_languages = ['bft','bcw','bap','ksr','gbj','acw','kje','kfc','kxv','kwf','lmp','mgz','nxq','rjs','kan','tdd','rro','cja']\n",
    "\n",
    "# Cache previously seen iso-3 language codes (speeds it up considerably)\n",
    "language_codes = {}\n",
    "# Exceptions\n",
    "language_codes['pou'] = 'poc'\n",
    "language_codes['sgjj'] = 'sgj' # typo\n",
    "language_codes['in'] = 'ind' # best guess - indonesian\n",
    "language_codes['wra'] = 'wra'\n",
    "language_codes['pltA'] = 'plt'\n",
    "language_codes['pltB'] = 'plt'\n",
    "language_codes['thfL'] = 'thf'\n",
    "language_codes['bapL'] = 'bap'\n",
    "language_codes['dud'] = 'dud'\n",
    "language_codes['eng'] = 'Latn'\n",
    "language_codes['deu'] = 'Latn'\n",
    "\n",
    "for file_name in tqdm(files):\n",
    "  with open(path + file_name,\"r\",encoding=\"utf-8\") as file:\n",
    "    lines = [i[:-1] for i in file.readlines()] # remove ending newline\n",
    "\n",
    "  if len([i for i in lines if i!='']) == 0: # skip empty bibles\n",
    "    continue\n",
    "\n",
    "  if len(lines) != 41899: # only use full bibles (previous calculations show only about 7% of bibles aren't full)\n",
    "    continue\n",
    "\n",
    "  # Find iso-3 language code for each language\n",
    "  language = file_name[:file_name.find('-')]\n",
    "  if language in language_codes:\n",
    "    iso_code = language_codes[language]\n",
    "  else:\n",
    "    try:\n",
    "      iso_code = Lang(language).pt3\n",
    "    except: # can't find language code\n",
    "      iso_code = ''\n",
    "    language_codes[language] = iso_code\n",
    "\n",
    "  if iso_code not in test_languages:\n",
    "    languages.append(iso_code)\n",
    "    bibles.append(lines)\n",
    "    filepaths.append(file_name)\n",
    "\n",
    "print('After processing - final number of Bibles:',len(bibles))\n",
    "print('Number of unknown languages:',len([i for i in languages if i==''])) # number of unknown language codes"
   ]
  },
  {
   "cell_type": "code",
   "execution_count": 3,
   "metadata": {},
   "outputs": [],
   "source": [
    "import pandas as pd\n",
    "\n",
    "iso_scripts = pd.read_csv('data/iso_scripts.csv')"
   ]
  },
  {
   "cell_type": "code",
   "execution_count": 21,
   "metadata": {},
   "outputs": [
    {
     "name": "stdout",
     "output_type": "stream",
     "text": [
      "script_codes['VAI'] = 'Vaii'\n",
      "script_codes['TAI_THAM'] = 'Lana'\n",
      "script_codes['TIFINAGH'] = 'Tfng'\n",
      "script_codes['GEORGIAN'] = 'Geor'\n",
      "script_codes['LISU'] = 'Lisu'\n",
      "script_codes['HIRAGANA'] = 'Hira'\n",
      "script_codes['SYRIAC'] = 'Syrc'\n",
      "script_codes['COMMON'] = 'Zyyy'\n",
      "script_codes['MONGOLIAN'] = 'Mong'\n",
      "script_codes['CANADIAN_ABORIGINAL'] = 'Cans'\n",
      "script_codes['KAYAH_LI'] = 'Kali'\n",
      "script_codes['LIMBU'] = 'Limb'\n",
      "script_codes['HAN'] = 'Hani'\n"
     ]
    }
   ],
   "source": [
    "for script in set(not_in_dict):\n",
    "  code = list(iso_scripts[iso_scripts['Alias']==script]['Code'])[0]\n",
    "  print(\"script_codes['\"+script.upper()+\"'] = '\" + code + \"'\")"
   ]
  },
  {
   "cell_type": "code",
   "execution_count": 22,
   "metadata": {},
   "outputs": [
    {
     "data": {
      "application/vnd.jupyter.widget-view+json": {
       "model_id": "168b66d9d15a49288e439c1bfb3da403",
       "version_major": 2,
       "version_minor": 0
      },
      "text/plain": [
       "  0%|          | 0/3130 [00:00<?, ?it/s]"
      ]
     },
     "metadata": {},
     "output_type": "display_data"
    },
    {
     "name": "stdout",
     "output_type": "stream",
     "text": [
      "scripts not in dictionary set()\n"
     ]
    }
   ],
   "source": [
    "# Find the script for each Bible\n",
    "# Takes about 2.5 minutes\n",
    "\n",
    "import sys\n",
    "import os\n",
    "sys.path.append(os.path.abspath(\"/Users/laura/silnlp/silnlp/common\"))\n",
    "from script_utils import get_script\n",
    "\n",
    "#https://en.wikipedia.org/wiki/ISO_15924\n",
    "# also can generate this automatically using code above\n",
    "script_codes = {}\n",
    "script_codes['CYRILLIC'] = 'Cyrl'\n",
    "script_codes['LATIN'] = 'Latn'\n",
    "script_codes['KANNADA'] = 'Knda'\n",
    "script_codes['GUJARATI'] = 'Gujr'\n",
    "script_codes['ARABIC'] = 'Arab'\n",
    "script_codes['BENGALI'] = 'Beng'\n",
    "script_codes['DEVANAGARI'] = 'Deva'\n",
    "script_codes['ETHIOPIC'] = 'Ethi'\n",
    "script_codes['GEORGIA'] = 'Geor'\n",
    "script_codes['GREEK'] = 'Grek'\n",
    "script_codes['GURMUKHI'] = 'Guru'\n",
    "script_codes['HANGUL'] = 'Hang'\n",
    "script_codes['HEBREW'] = 'Hira'\n",
    "script_codes['KHMER'] = 'Khmr'\n",
    "script_codes['LAO'] = 'Laoo'\n",
    "script_codes['MALAYALAM'] = 'Mlym'\n",
    "script_codes['MYANMAR'] = 'Mymr'\n",
    "script_codes['ORIYA'] = 'Orya'\n",
    "script_codes['SINHALA'] = 'Sinh'\n",
    "script_codes['TAMIL'] = 'Taml'\n",
    "script_codes['TELUGU'] = 'Telu'\n",
    "script_codes['THAI'] = 'Thai'\n",
    "script_codes['TIBETAN'] = 'Tibt'\n",
    "script_codes['VAI'] = 'Vaii'\n",
    "script_codes['TAI_THAM'] = 'Lana'\n",
    "script_codes['TIFINAGH'] = 'Tfng'\n",
    "script_codes['GEORGIAN'] = 'Geor'\n",
    "script_codes['LISU'] = 'Lisu'\n",
    "script_codes['HIRAGANA'] = 'Hira'\n",
    "script_codes['SYRIAC'] = 'Syrc'\n",
    "script_codes['COMMON'] = 'Zyyy'\n",
    "script_codes['MONGOLIAN'] = 'Mong'\n",
    "script_codes['CANADIAN_ABORIGINAL'] = 'Cans'\n",
    "script_codes['KAYAH_LI'] = 'Kali'\n",
    "script_codes['LIMBU'] = 'Limb'\n",
    "script_codes['HAN'] = 'Hani'\n",
    "\n",
    "llm_tags = []\n",
    "not_in_dict = []\n",
    "for i in tqdm(range(len(bibles))):\n",
    "  not_empty = [k for k in bibles[i] if k != ''] # find non-empty verses\n",
    "  script = get_script(''.join(not_empty[:10])) # look at 10 verses to determine script\n",
    "  if script.upper() in script_codes:\n",
    "    llm_tags.append(languages[i] + '_' + script_codes[script.upper()])\n",
    "  else:\n",
    "    not_in_dict.append(script)\n",
    "    llm_tags.append(languages[i] + '_Othr')\n",
    "\n",
    "print('scripts not in dictionary',set(not_in_dict))"
   ]
  },
  {
   "cell_type": "code",
   "execution_count": 23,
   "metadata": {},
   "outputs": [
    {
     "data": {
      "application/vnd.jupyter.widget-view+json": {
       "model_id": "67538a113bbc41a78a1364fca9c74e02",
       "version_major": 2,
       "version_minor": 0
      },
      "text/plain": [
       "  0%|          | 0/41899 [00:00<?, ?it/s]"
      ]
     },
     "metadata": {},
     "output_type": "display_data"
    }
   ],
   "source": [
    "num_verses = []\n",
    "for verse in tqdm(range(41899)):\n",
    "  num_verses.append(len([i for i in bibles if i[verse] != '']))"
   ]
  },
  {
   "cell_type": "code",
   "execution_count": 24,
   "metadata": {},
   "outputs": [
    {
     "data": {
      "text/plain": [
       "[1681, 1667, 1659, 1659, 1659, 1660, 1660, 1659, 1658, 1656]"
      ]
     },
     "execution_count": 24,
     "metadata": {},
     "output_type": "execute_result"
    }
   ],
   "source": [
    "num_verses[:10]"
   ]
  },
  {
   "cell_type": "code",
   "execution_count": 27,
   "metadata": {},
   "outputs": [
    {
     "name": "stdout",
     "output_type": "stream",
     "text": [
      "Collecting seaborn\n",
      "  Downloading seaborn-0.13.2-py3-none-any.whl.metadata (5.4 kB)\n",
      "Requirement already satisfied: numpy!=1.24.0,>=1.20 in /opt/miniconda3/lib/python3.12/site-packages (from seaborn) (1.26.4)\n",
      "Requirement already satisfied: pandas>=1.2 in /opt/miniconda3/lib/python3.12/site-packages (from seaborn) (2.2.2)\n",
      "Collecting matplotlib!=3.6.1,>=3.4 (from seaborn)\n",
      "  Downloading matplotlib-3.9.2-cp312-cp312-macosx_10_12_x86_64.whl.metadata (11 kB)\n",
      "Collecting contourpy>=1.0.1 (from matplotlib!=3.6.1,>=3.4->seaborn)\n",
      "  Downloading contourpy-1.2.1-cp312-cp312-macosx_10_9_x86_64.whl.metadata (5.8 kB)\n",
      "Collecting cycler>=0.10 (from matplotlib!=3.6.1,>=3.4->seaborn)\n",
      "  Downloading cycler-0.12.1-py3-none-any.whl.metadata (3.8 kB)\n",
      "Collecting fonttools>=4.22.0 (from matplotlib!=3.6.1,>=3.4->seaborn)\n",
      "  Downloading fonttools-4.53.1-cp312-cp312-macosx_10_9_universal2.whl.metadata (162 kB)\n",
      "Collecting kiwisolver>=1.3.1 (from matplotlib!=3.6.1,>=3.4->seaborn)\n",
      "  Downloading kiwisolver-1.4.5-cp312-cp312-macosx_10_9_x86_64.whl.metadata (6.4 kB)\n",
      "Requirement already satisfied: packaging>=20.0 in /opt/miniconda3/lib/python3.12/site-packages (from matplotlib!=3.6.1,>=3.4->seaborn) (23.2)\n",
      "Requirement already satisfied: pillow>=8 in /opt/miniconda3/lib/python3.12/site-packages (from matplotlib!=3.6.1,>=3.4->seaborn) (10.3.0)\n",
      "Requirement already satisfied: pyparsing>=2.3.1 in /opt/miniconda3/lib/python3.12/site-packages (from matplotlib!=3.6.1,>=3.4->seaborn) (3.1.2)\n",
      "Requirement already satisfied: python-dateutil>=2.7 in /opt/miniconda3/lib/python3.12/site-packages (from matplotlib!=3.6.1,>=3.4->seaborn) (2.8.2)\n",
      "Requirement already satisfied: pytz>=2020.1 in /opt/miniconda3/lib/python3.12/site-packages (from pandas>=1.2->seaborn) (2024.1)\n",
      "Requirement already satisfied: tzdata>=2022.7 in /opt/miniconda3/lib/python3.12/site-packages (from pandas>=1.2->seaborn) (2024.1)\n",
      "Requirement already satisfied: six>=1.5 in /opt/miniconda3/lib/python3.12/site-packages (from python-dateutil>=2.7->matplotlib!=3.6.1,>=3.4->seaborn) (1.16.0)\n",
      "Downloading seaborn-0.13.2-py3-none-any.whl (294 kB)\n",
      "Downloading matplotlib-3.9.2-cp312-cp312-macosx_10_12_x86_64.whl (7.9 MB)\n",
      "\u001b[2K   \u001b[90m━━━━━━━━━━━━━━━━━━━━━━━━━━━━━━━━━━━━━━━━\u001b[0m \u001b[32m7.9/7.9 MB\u001b[0m \u001b[31m18.5 MB/s\u001b[0m eta \u001b[36m0:00:00\u001b[0m00:01\u001b[0m00:01\u001b[0m\n",
      "\u001b[?25hDownloading contourpy-1.2.1-cp312-cp312-macosx_10_9_x86_64.whl (263 kB)\n",
      "Downloading cycler-0.12.1-py3-none-any.whl (8.3 kB)\n",
      "Downloading fonttools-4.53.1-cp312-cp312-macosx_10_9_universal2.whl (2.8 MB)\n",
      "\u001b[2K   \u001b[90m━━━━━━━━━━━━━━━━━━━━━━━━━━━━━━━━━━━━━━━━\u001b[0m \u001b[32m2.8/2.8 MB\u001b[0m \u001b[31m28.5 MB/s\u001b[0m eta \u001b[36m0:00:00\u001b[0m\n",
      "\u001b[?25hDownloading kiwisolver-1.4.5-cp312-cp312-macosx_10_9_x86_64.whl (67 kB)\n",
      "Installing collected packages: kiwisolver, fonttools, cycler, contourpy, matplotlib, seaborn\n",
      "Successfully installed contourpy-1.2.1 cycler-0.12.1 fonttools-4.53.1 kiwisolver-1.4.5 matplotlib-3.9.2 seaborn-0.13.2\n",
      "Note: you may need to restart the kernel to use updated packages.\n"
     ]
    }
   ],
   "source": [
    "%pip install seaborn"
   ]
  },
  {
   "cell_type": "code",
   "execution_count": 29,
   "metadata": {},
   "outputs": [
    {
     "data": {
      "text/plain": [
       "[<matplotlib.lines.Line2D at 0x3ac4caf00>]"
      ]
     },
     "execution_count": 29,
     "metadata": {},
     "output_type": "execute_result"
    },
    {
     "data": {
      "image/png": "[encoded data removed]",
      "text/plain": [
       "<Figure size 640x480 with 1 Axes>"
      ]
     },
     "metadata": {},
     "output_type": "display_data"
    }
   ],
   "source": [
    "import seaborn as sns\n",
    "import matplotlib.pyplot as plt\n",
    "plt.plot(num_verses)"
   ]
  },
  {
   "cell_type": "code",
   "execution_count": 32,
   "metadata": {},
   "outputs": [
    {
     "data": {
      "application/vnd.jupyter.widget-view+json": {
       "model_id": "7ad1e29344604a4a95f71b72a4ec1d25",
       "version_major": 2,
       "version_minor": 0
      },
      "text/plain": [
       "  0%|          | 0/3130 [00:00<?, ?it/s]"
      ]
     },
     "metadata": {},
     "output_type": "display_data"
    }
   ],
   "source": [
    "from collections import Counter\n",
    "counter = Counter()\n",
    "for llm_tag in tqdm(llm_tags):\n",
    "  script = llm_tag.split('_')[1]\n",
    "  counter[script]+=1"
   ]
  },
  {
   "cell_type": "code",
   "execution_count": 34,
   "metadata": {},
   "outputs": [],
   "source": [
    "plt.plot(counter)"
   ]
  },
  {
   "cell_type": "code",
   "execution_count": 3,
   "metadata": {},
   "outputs": [
    {
     "data": {
      "application/vnd.jupyter.widget-view+json": {
       "model_id": "e508930dd51f43dcbe51b1ee4a55d89c",
       "version_major": 2,
       "version_minor": 0
      },
      "text/plain": [
       "  0%|          | 0/41899 [00:00<?, ?it/s]"
      ]
     },
     "metadata": {},
     "output_type": "display_data"
    }
   ],
   "source": [
    "import json\n",
    "\n",
    "def write_llm_input(src_sentence,trg_sentence,src_tag,trg_tag,output_file):\n",
    "  data = {\n",
    "    \"model_inputs\": f\"translate \"+src_tag+\" to \"+trg_tag+\": \"+src_sentence.strip(),\n",
    "    \"completion\": f\"{trg_sentence.strip()}\"\n",
    "  }\n",
    "  json.dump(data, output_file)\n",
    "  output_file.write(\"\\n\")\n",
    "\n",
    "with open('all_scripture_llm_input.jsonl', 'w') as output_file:\n",
    "  for verse in tqdm(range(41899)):\n",
    "    for i in range(len(bibles)):\n",
    "      for j in range(len(bibles)):\n",
    "        src_sentence = bibles[i][verse]\n",
    "        trg_sentence = bibles[j][verse]\n",
    "        if i!=j and src_sentence!='' and trg_sentence!='':\n",
    "          write_llm_input(src_sentence, trg_sentence, llm_tags[i], llm_tags[j], output_file)\n",
    "          write_llm_input(trg_sentence, src_sentence, llm_tags[j], llm_tags[i], output_file)\n"
   ]
  },
  {
   "cell_type": "code",
   "execution_count": null,
   "metadata": {},
   "outputs": [],
   "source": []
  }
 ],
 "metadata": {
  "kernelspec": {
   "display_name": "base",
   "language": "python",
   "name": "python3"
  },
  "language_info": {
   "codemirror_mode": {
    "name": "ipython",
    "version": 3
   },
   "file_extension": ".py",
   "mimetype": "text/x-python",
   "name": "python",
   "nbconvert_exporter": "python",
   "pygments_lexer": "ipython3",
   "version": "3.12.2"
  }
 },
 "nbformat": 4,
 "nbformat_minor": 2
}
