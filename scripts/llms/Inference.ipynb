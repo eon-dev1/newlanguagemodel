{
 "cells": [
  {
   "cell_type": "code",
   "execution_count": null,
   "metadata": {},
   "outputs": [],
   "source": [
    "from transformers import AutoTokenizer, AutoModelForCausalLM, BitsAndBytesConfig\n",
    "import json\n",
    "from datasets import Dataset, DatasetDict\n",
    "from tqdm.notebook import tqdm\n",
    "import boto3\n",
    "from botocore.exceptions import ClientError\n",
    "import torch"
   ]
  },
  {
   "cell_type": "code",
   "execution_count": null,
   "metadata": {},
   "outputs": [],
   "source": [
    "language = 'waima'\n",
    "access_token = \"xxx\"\n",
    "dataset_label = \"test\""
   ]
  },
  {
   "cell_type": "code",
   "execution_count": null,
   "metadata": {},
   "outputs": [],
   "source": [
    "torch.cuda.empty_cache()"
   ]
  },
  {
   "cell_type": "code",
   "execution_count": null,
   "metadata": {},
   "outputs": [],
   "source": [
    "# Load the trained model for inference\n",
    "bnb_config = BitsAndBytesConfig(\n",
    "    load_in_4bit=True,\n",
    "    bnb_4bit_use_double_quant=True,\n",
    "    bnb_4bit_quant_type=\"nf4\",\n",
    "    bnb_4bit_compute_dtype=torch.float16\n",
    ")\n",
    "\n",
    "# load model with no finetuning\n",
    "#tokenizer = AutoTokenizer.from_pretrained('/root/merged_adapters', token=access_token)\n",
    "#model = AutoModelForCausalLM.from_pretrained('/root/merged_adapters', token=access_token, quantization_config=bnb_config, device_map={\"\":0})\n",
    "\n",
    "tokenizer = AutoTokenizer.from_pretrained('/root/trained_model_'+language, token=access_token)\n",
    "#special_tokens = {'additional_special_tokens': ['khm_Khmr', 'cja_Othr']}\n",
    "#tokenizer.add_special_tokens(special_tokens)\n",
    "model = AutoModelForCausalLM.from_pretrained('/root/trained_model_'+language, token=access_token, device_map={\"\":0}) #quantization_config=bnb_config,"
   ]
  },
  {
   "cell_type": "code",
   "execution_count": null,
   "metadata": {},
   "outputs": [],
   "source": [
    "# read in the data\n",
    "\n",
    "# Initialize a dictionary to hold the lists for each field\n",
    "read_data = {'model_inputs': [], 'completion': []}\n",
    "\n",
    "# Open the file and read line by line\n",
    "with open('/root/all_llm_data/'+language+'_' + dataset_label + '_data.jsonl', 'r', encoding='utf-8') as file:\n",
    "    for line in file:\n",
    "        # Each line is a complete JSON object\n",
    "        json_object = json.loads(line)\n",
    "        # Append each field to the appropriate list\n",
    "        read_data['model_inputs'].append(json_object.get('model_inputs', ''))  \n",
    "        read_data['completion'].append(json_object.get('completion', ''))         \n",
    "\n",
    "# Convert the dictionary of lists into a `Dataset`\n",
    "dataset = Dataset.from_dict(read_data)\n",
    "\n",
    "# Create a `DatasetDict` for a train/test split\n",
    "dataset_dict = DatasetDict({'data': dataset})\n",
    "\n",
    "# Print the first entry of the dataset to check its structure\n",
    "print(dataset_dict['data'][0])"
   ]
  },
  {
   "cell_type": "code",
   "execution_count": null,
   "metadata": {},
   "outputs": [],
   "source": [
    "# Restrain output to only a certain character set (in this case Latin script)\n",
    "import torch\n",
    "from transformers import GPT2Tokenizer, GPT2LMHeadModel, LogitsProcessorList, LogitsProcessor\n",
    "\n",
    "class LatinScriptLogitsProcessor(LogitsProcessor):\n",
    "    def __init__(self, tokenizer):\n",
    "        self.allowed_tokens = set(tokenizer.convert_tokens_to_ids(tokenizer.tokenize('abcdefghijklmnopqrstuvwxyzABCDEFGHIJKLMNOPQRSTUVWXYZ0123456789 \"-:;().,?!')))\n",
    "\n",
    "    def __call__(self, input_ids: torch.LongTensor, scores: torch.FloatTensor) -> torch.FloatTensor:\n",
    "        # Get the batch size and vocab size\n",
    "        batch_size, vocab_size = scores.size()\n",
    "        \n",
    "        # Create a mask for allowed tokens\n",
    "        allowed_mask = torch.zeros(vocab_size, dtype=torch.bool)\n",
    "        allowed_mask[list(self.allowed_tokens)] = True\n",
    "        \n",
    "        # Apply the mask to the scores\n",
    "        scores[:, ~allowed_mask] = -float(\"inf\")\n",
    "        \n",
    "        return scores\n",
    "\n",
    "# Create the logits processor\n",
    "logits_processor = LatinScriptLogitsProcessor(tokenizer)\n",
    "logits_processor_list = LogitsProcessorList([logits_processor])"
   ]
  },
  {
   "cell_type": "code",
   "execution_count": null,
   "metadata": {},
   "outputs": [],
   "source": [
    "# Open the file and read line by line\n",
    "train = {'model_inputs': [], 'completion': []}\n",
    "\n",
    "with open('/root/all_llm_data/'+language+'_train_data.jsonl', 'r', encoding='utf-8') as file:\n",
    "    for line in file:\n",
    "        # Each line is a complete JSON object\n",
    "        json_object = json.loads(line)\n",
    "        # Append each field to the appropriate list\n",
    "        train['model_inputs'].append(json_object.get('model_inputs', ''))  \n",
    "        train['completion'].append(json_object.get('completion', '')) "
   ]
  },
  {
   "cell_type": "code",
   "execution_count": null,
   "metadata": {},
   "outputs": [],
   "source": [
    "#Constrain generation to only use tokens seen in the training set (completions only)\n",
    "\n",
    "# Step 1: Extract valid tokens from the training data\n",
    "valid_tokens = set()\n",
    "for example in train['completion']:\n",
    "    tokens = tokenizer.tokenize(example)\n",
    "    token_ids = tokenizer.convert_tokens_to_ids(tokens)\n",
    "    valid_tokens.update(token_ids)\n",
    "    break"
   ]
  },
  {
   "cell_type": "code",
   "execution_count": null,
   "metadata": {},
   "outputs": [],
   "source": [
    "# Step 2: Define a custom logits processor\n",
    "class ValidTokensLogitsProcessor(LogitsProcessor):\n",
    "    def __init__(self, valid_tokens):\n",
    "        self.valid_tokens = valid_tokens\n",
    "\n",
    "    def __call__(self, input_ids: torch.LongTensor, scores: torch.FloatTensor) -> torch.FloatTensor:\n",
    "        # Get the batch size and vocab size\n",
    "        batch_size, vocab_size = scores.size()\n",
    "        \n",
    "        # Create a mask for valid tokens\n",
    "        valid_mask = torch.zeros(vocab_size, dtype=torch.bool)\n",
    "        valid_mask[list(self.valid_tokens)] = True\n",
    "        \n",
    "        # Apply the mask to the scores\n",
    "        scores[:, ~valid_mask] = -float(\"inf\")\n",
    "        \n",
    "        return scores\n",
    "\n",
    "# Create the logits processor\n",
    "valid_tokens_logits_processor = ValidTokensLogitsProcessor(valid_tokens)\n",
    "valid_tokens_logits_processor_list = LogitsProcessorList([valid_tokens_logits_processor])"
   ]
  },
  {
   "cell_type": "code",
   "execution_count": null,
   "metadata": {},
   "outputs": [],
   "source": [
    "# diversity_penalty needs to be a float (not int) - e.g., 1.0 rather than 1\n",
    "def batch_generate(max_new_tokens=200,temperature=0.5,top_p=0.9,top_k=50,repetition_penalty=1,renormalize_logits=False,logits_processor=None,\n",
    "    num_beams=1,do_sample=True,penalty_alpha=0,no_repeat_ngram_size=0,diversity_penalty=0.0,num_beam_groups=1):\n",
    "    # generate in batches (to avoid running out of memory)\n",
    "    generated = []\n",
    "    NUM_INPUTS = 10\n",
    "\n",
    "    starting_num = 0\n",
    "    while starting_num < len(dataset_dict['data']):\n",
    "        torch.cuda.empty_cache()\n",
    "        print(starting_num)\n",
    "\n",
    "        # tokenize all inputs for validation data\n",
    "        tokenizer.pad_token = tokenizer.eos_token\n",
    "        ending_num = min(starting_num + NUM_INPUTS, len(dataset_dict['data']))\n",
    "        inputs = tokenizer([i['model_inputs'] for i in dataset_dict['data']][starting_num:ending_num], padding = True, return_tensors=\"pt\").to(\"cuda\")\n",
    "        starting_num += NUM_INPUTS\n",
    "\n",
    "        assert len(inputs['input_ids']) <= NUM_INPUTS\n",
    "\n",
    "        # send all tokenized input through model\n",
    "        outputs = model.generate(\n",
    "            **inputs,\n",
    "            max_new_tokens=max_new_tokens,\n",
    "            temperature=temperature,\n",
    "            top_p=top_p,\n",
    "            top_k=top_k,\n",
    "            do_sample=do_sample,\n",
    "            repetition_penalty=repetition_penalty,\n",
    "            renormalize_logits=renormalize_logits,\n",
    "            logits_processor=logits_processor,\n",
    "            num_beams=num_beams,\n",
    "            penalty_alpha=penalty_alpha,\n",
    "            no_repeat_ngram_size=no_repeat_ngram_size,\n",
    "            diversity_penalty=diversity_penalty,\n",
    "            num_beam_groups=num_beam_groups\n",
    "        )\n",
    "\n",
    "        generated += tokenizer.batch_decode(outputs, skip_special_tokens=True)\n",
    "\n",
    "    return generated"
   ]
  },
  {
   "cell_type": "code",
   "execution_count": null,
   "metadata": {},
   "outputs": [],
   "source": [
    "%pip install sentencepiece==0.1.97 # same as silnlp\n",
    "%pip install nltk==3.7 # same as silnlp\n",
    "%pip install sacrebleu==2.3.1 # same as silnlp"
   ]
  },
  {
   "cell_type": "code",
   "execution_count": null,
   "metadata": {},
   "outputs": [],
   "source": [
    "import sacrebleu"
   ]
  },
  {
   "cell_type": "code",
   "execution_count": null,
   "metadata": {},
   "outputs": [],
   "source": [
    "generated = batch_generate(max_new_tokens=150,repetition_penalty=1.2,renormalize_logits=True,do_sample=False,top_k=4,penalty_alpha=0.6)\n",
    "#generated = batch_generate(max_new_tokens=150,temperature=0.5,repetition_penalty=1.2,renormalize_logits=False,logits_processor=valid_tokens_logits_processor_list,\\\n",
    "#    num_beams=1,top_k=4,penalty_alpha=0.6,do_sample=False,no_repeat_ngram_size=4,diversity_penalty=0,num_beam_groups=1)"
   ]
  },
  {
   "cell_type": "code",
   "execution_count": null,
   "metadata": {},
   "outputs": [],
   "source": [
    "with open(\"/root/all_llm_data/\" + language + \"_\" + dataset_label + \".trg.detok.txt\", \"r\", encoding=\"utf-8\") as file:\n",
    "    trg = file.readlines()\n",
    "with open(\"/root/all_llm_data/\" + language + \"_\" + dataset_label + \".src.detok.txt\", \"r\", encoding=\"utf-8\") as file:\n",
    "    src = file.readlines() "
   ]
  },
  {
   "cell_type": "code",
   "execution_count": null,
   "metadata": {},
   "outputs": [],
   "source": [
    "generated[:10]"
   ]
  },
  {
   "cell_type": "code",
   "execution_count": null,
   "metadata": {},
   "outputs": [],
   "source": [
    "# automatically remove prompt from results\n",
    "generated = [i[i.find(\":\")+2:] for i in generated] #32\n",
    "\n",
    "for i in range(len(generated)):\n",
    "  source_sentence = src[i][:-1] #remove new line character from the end of the source sentence\n",
    "  prediction = generated[i]\n",
    "  \n",
    "  if prediction[:len(source_sentence)]==source_sentence: #prediction repeats the source sentence\n",
    "    generated[i] = prediction[len(source_sentence)+1:] #remove source sentence from prediction"
   ]
  },
  {
   "cell_type": "code",
   "execution_count": null,
   "metadata": {},
   "outputs": [],
   "source": [
    "generated[:10]"
   ]
  },
  {
   "cell_type": "code",
   "execution_count": null,
   "metadata": {},
   "outputs": [],
   "source": [
    "len(generated)"
   ]
  },
  {
   "cell_type": "code",
   "execution_count": null,
   "metadata": {},
   "outputs": [],
   "source": [
    "pair_sys = generated\n",
    "pair_refs = [trg]\n",
    "bleu_score = sacrebleu.corpus_bleu(pair_sys,pair_refs,lowercase=True,tokenize=\"13a\")\n",
    "print(bleu_score.score)"
   ]
  },
  {
   "cell_type": "code",
   "execution_count": null,
   "metadata": {},
   "outputs": [],
   "source": [
    "trg[7]"
   ]
  },
  {
   "cell_type": "code",
   "execution_count": null,
   "metadata": {},
   "outputs": [],
   "source": [
    "# save predictions to a file\n",
    "generated = [i.replace(\"\\n\",\" \") for i in generated] #for each prompt, make everything on one line\n",
    "\n",
    "with open('/root/model_' + language + '_' + dataset_label + '.trg-predictions.detok.txt', 'w') as file:\n",
    "    file.write('\\n'.join(generated))"
   ]
  },
  {
   "cell_type": "code",
   "execution_count": null,
   "metadata": {},
   "outputs": [],
   "source": [
    "# set up s3 bucket\n",
    "\n",
    "# fill in access key id and secret access key\n",
    "s3 = boto3.client('s3',\n",
    "    aws_access_key_id=\"xxx\",\n",
    "    aws_secret_access_key=\"xxx\",\n",
    ")\n",
    "\n",
    "def upload_file(file_name, bucket, object_name):\n",
    "    if object_name is None:\n",
    "        object_name = file_name\n",
    "    try:\n",
    "        s3.upload_file(file_name, bucket, Key=object_name)\n",
    "    except ClientError as e:\n",
    "        print(e)\n",
    "        return False\n",
    "    print(\"Success!\")\n",
    "    return True"
   ]
  },
  {
   "cell_type": "code",
   "execution_count": null,
   "metadata": {},
   "outputs": [],
   "source": [
    "# upload predictions to s3 bucket\n",
    "upload_file('/root/model_' + language + '_' + dataset_label + '.trg-predictions.detok.txt', \"aqua-ml-data\", \\\n",
    "      \"MT/experiments/Demo_Laura/preprocessed/\" + language + '/model_' + dataset_label + '.trg-predictions.detok.txt')"
   ]
  },
  {
   "cell_type": "code",
   "execution_count": null,
   "metadata": {},
   "outputs": [],
   "source": [
    "files = ['tokenizer_config.json',\n",
    " 'special_tokens_map.json',\n",
    " 'tokenizer.model',\n",
    " 'tokenizer.json',\n",
    " 'README.md',\n",
    " 'adapter_model.safetensors',\n",
    " 'adapter_config.json']\n",
    "\n",
    "for file in files:\n",
    "   print(file)\n",
    "   upload_file(\"/root/trained_model_\" + language + \"/\" + file, \"aqua-ml-data\", \\\n",
    "      \"MT/experiments/Demo_Laura/trained_models/trained_model_\" + language + \\\n",
    "      \"/\" + file)"
   ]
  },
  {
   "cell_type": "code",
   "execution_count": null,
   "metadata": {},
   "outputs": [],
   "source": []
  }
 ],
 "metadata": {
  "kernelspec": {
   "display_name": "3.8",
   "language": "python",
   "name": "python3"
  },
  "language_info": {
   "codemirror_mode": {
    "name": "ipython",
    "version": 3
   },
   "file_extension": ".py",
   "mimetype": "text/x-python",
   "name": "python",
   "nbconvert_exporter": "python",
   "pygments_lexer": "ipython3",
   "version": "3.8.10"
  },
  "orig_nbformat": 4
 },
 "nbformat": 4,
 "nbformat_minor": 2
}
