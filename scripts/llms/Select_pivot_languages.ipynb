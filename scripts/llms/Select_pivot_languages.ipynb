{
 "cells": [
  {
   "cell_type": "code",
   "execution_count": null,
   "metadata": {},
   "outputs": [],
   "source": [
    "# Find all config files used in FT projects\n",
    "# Takes about 22 minutes\n",
    "\n",
    "from pathlib import Path\n",
    "\n",
    "configs = []\n",
    "for path in Path('/Users/laura/S/MT/experiments').rglob('*/config.yml'):\n",
    "    if \"FT-\" in str(path):\n",
    "        configs.append(path)"
   ]
  },
  {
   "cell_type": "code",
   "execution_count": null,
   "metadata": {},
   "outputs": [],
   "source": [
    "len(configs)"
   ]
  },
  {
   "cell_type": "code",
   "execution_count": null,
   "metadata": {},
   "outputs": [],
   "source": [
    "# Save just in case it crashes\n",
    "\n",
    "import pickle\n",
    "\n",
    "with open(\"data/configs.pkl\",\"wb\") as pickleFile:\n",
    "  pickle.dump(configs,pickleFile)"
   ]
  },
  {
   "cell_type": "code",
   "execution_count": null,
   "metadata": {},
   "outputs": [],
   "source": [
    "# Extract source texts and source languages from all config files\n",
    "# Takes about 1.5 minutes\n",
    "\n",
    "from collections import Counter\n",
    "from tqdm.notebook import tqdm\n",
    "\n",
    "source_counter = Counter()\n",
    "language_counter = Counter()\n",
    "\n",
    "for path in tqdm(configs):\n",
    "  if path.is_file():\n",
    "    with open(path,\"r\") as file:\n",
    "      lines = '\\n'.join([i[:-1] for i in file.readlines()])\n",
    "      sources = [i.strip()[2:] for i in lines[lines.find(\"src:\"):lines.find(\":\",lines.find(\"src:\")+4)].split('\\n')[1:-1]]\n",
    "      languages = [source.split('-')[0] for source in sources]\n",
    "      for source in sources:\n",
    "          source_counter[source] += 1\n",
    "      for language in languages:\n",
    "          language_counter[language] += 1"
   ]
  },
  {
   "cell_type": "code",
   "execution_count": null,
   "metadata": {},
   "outputs": [],
   "source": [
    "import pandas as pd\n",
    "\n",
    "language_df = pd.DataFrame.from_dict(language_counter,orient=\"index\").reset_index()\n",
    "language_df.columns=['language','count']"
   ]
  },
  {
   "cell_type": "code",
   "execution_count": null,
   "metadata": {},
   "outputs": [],
   "source": [
    "common_languages = language_df[language_df['count']>10].sort_values(by='count',ascending=False)"
   ]
  },
  {
   "cell_type": "code",
   "execution_count": null,
   "metadata": {},
   "outputs": [],
   "source": [
    "common_languages[:11]"
   ]
  },
  {
   "cell_type": "code",
   "execution_count": null,
   "metadata": {},
   "outputs": [],
   "source": [
    "import matplotlib.pyplot as plt\n",
    "plt.bar(common_languages['language'], common_languages['count'])"
   ]
  },
  {
   "cell_type": "code",
   "execution_count": null,
   "metadata": {},
   "outputs": [],
   "source": [
    "source_df = pd.DataFrame.from_dict(source_counter,orient=\"index\").reset_index()\n",
    "source_df.columns=['source','count']"
   ]
  },
  {
   "cell_type": "code",
   "execution_count": null,
   "metadata": {},
   "outputs": [],
   "source": [
    "source_df['language'] = [i.split('-')[0] for i in source_df['source']]"
   ]
  },
  {
   "cell_type": "code",
   "execution_count": null,
   "metadata": {},
   "outputs": [],
   "source": [
    "source_df[(source_df.language=='id')].sort_values(by='count',ascending=False)"
   ]
  },
  {
   "cell_type": "code",
   "execution_count": null,
   "metadata": {},
   "outputs": [],
   "source": [
    "pivot_sources = ['en-NIV11R','es-DHHE','ko-RNKSV','fr-LBS21','cmn-CU2010S','ru-NRT23','swh-MFT_2023_11_11','hi-HINOVBSI','npi-SNHB','id-BIMK']"
   ]
  }
 ],
 "metadata": {
  "kernelspec": {
   "display_name": "base",
   "language": "python",
   "name": "python3"
  },
  "language_info": {
   "codemirror_mode": {
    "name": "ipython",
    "version": 3
   },
   "file_extension": ".py",
   "mimetype": "text/x-python",
   "name": "python",
   "nbconvert_exporter": "python",
   "pygments_lexer": "ipython3",
   "version": "3.12.2"
  }
 },
 "nbformat": 4,
 "nbformat_minor": 2
}
