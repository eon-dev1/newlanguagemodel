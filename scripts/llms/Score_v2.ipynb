{
 "cells": [
  {
   "cell_type": "code",
   "execution_count": null,
   "metadata": {},
   "outputs": [],
   "source": [
    "%pip install sentencepiece==0.1.97 # same as silnlp\n",
    "%pip install nltk==3.7 # same as silnlp\n",
    "%pip install sacrebleu==2.3.1 # same as silnlp\n",
    "%pip install rouge_score\n",
    "%pip install editdistance"
   ]
  },
  {
   "cell_type": "code",
   "execution_count": null,
   "metadata": {},
   "outputs": [],
   "source": [
    "import sacrebleu\n",
    "from nltk.translate.gleu_score import sentence_gleu\n",
    "from nltk.translate.nist_score import corpus_nist\n",
    "import nltk\n",
    "from rouge_score import rouge_scorer\n",
    "import sacrebleu\n",
    "import editdistance"
   ]
  },
  {
   "cell_type": "code",
   "execution_count": null,
   "metadata": {},
   "outputs": [],
   "source": [
    "# NLTK data\n",
    "nltk.download('wordnet')\n",
    "nltk.download('punkt')"
   ]
  },
  {
   "cell_type": "code",
   "execution_count": null,
   "metadata": {},
   "outputs": [],
   "source": [
    "#path = \"C:/mySIL/preprocessed/\"     # For Windows\n",
    "path = \"/Users/laura/llmResearch/preprocessed/\"\n",
    "language = \"western_chawma\"\n",
    "dataset = \"test\""
   ]
  },
  {
   "cell_type": "code",
   "execution_count": null,
   "metadata": {},
   "outputs": [],
   "source": [
    "with open(path + \"/\" + \"unsloth_seallm_allTrainingData_1epoch_\" + language + \"_\" + dataset + \"_generated.txt\", \"r\", encoding=\"utf-8\") as file:\n",
    "    trg_predictions = file.readlines()\n",
    "with open(path + language + \"/\" + dataset + \".trg.detok.txt\", \"r\", encoding=\"utf-8\") as file:\n",
    "    trg = file.readlines()\n",
    "with open(path + language + \"/\" + dataset + \".src.detok.txt\", \"r\", encoding=\"utf-8\") as file:\n",
    "    src = file.readlines() "
   ]
  },
  {
   "cell_type": "code",
   "execution_count": null,
   "metadata": {},
   "outputs": [],
   "source": [
    "print(src[0])\n",
    "print(trg[0])\n",
    "print(trg_predictions[0])"
   ]
  },
  {
   "cell_type": "code",
   "execution_count": null,
   "metadata": {},
   "outputs": [],
   "source": [
    "# automatically remove prompt from results\n",
    "#trg_predictions = [i[i.find(\":\")+2:] for i in trg_predictions] #32\n",
    "\n",
    "for i in range(len(trg_predictions)):\n",
    "  source_sentence = src[i][:-1] #remove new line character from the end of the source sentence\n",
    "  prediction = trg_predictions[i]\n",
    "  print(source_sentence)\n",
    "  print(prediction)\n",
    "  \n",
    "  if prediction[:len(source_sentence)]==source_sentence: #prediction repeats the source sentence\n",
    "    trg_predictions[i] = prediction[len(source_sentence)+1:] #remove source sentence from prediction\n",
    "    print(trg_predictions[i])\n",
    "  break"
   ]
  },
  {
   "cell_type": "code",
   "execution_count": null,
   "metadata": {},
   "outputs": [],
   "source": [
    "pair_sys = trg_predictions\n",
    "pair_refs = [trg]\n",
    "\n",
    "scores = {}\n",
    "\n",
    "bleu_score = sacrebleu.corpus_bleu(pair_sys,pair_refs,lowercase=True,tokenize=\"13a\")\n",
    "scores[\"BLEU\"] = bleu_score.score\n",
    "\n",
    "chrf3_score = sacrebleu.corpus_chrf(pair_sys, pair_refs, char_order=6, beta=3, remove_whitespace=True)\n",
    "scores[\"chrF3\"] = chrf3_score.score\n",
    "\n",
    "chrfp_score = sacrebleu.corpus_chrf(pair_sys, pair_refs, char_order=6, beta=3, word_order=1, remove_whitespace=True, eps_smoothing=True)\n",
    "scores[\"chrF3+\"] = chrfp_score.score\n",
    "\n",
    "chrfpp_score = sacrebleu.corpus_chrf(pair_sys, pair_refs, char_order=6, beta=3, word_order=2, remove_whitespace=True, eps_smoothing=True)\n",
    "scores[\"chrF3++\"] = chrfpp_score.score\n",
    "\n",
    "spbleu_score = sacrebleu.corpus_bleu(pair_sys, pair_refs, lowercase=True,tokenize=\"flores200\",)\n",
    "scores[\"spBLEU\"] = spbleu_score.score"
   ]
  },
  {
   "cell_type": "code",
   "execution_count": null,
   "metadata": {},
   "outputs": [],
   "source": [
    "len(trg_predictions)"
   ]
  },
  {
   "cell_type": "code",
   "execution_count": null,
   "metadata": {},
   "outputs": [],
   "source": [
    "scores"
   ]
  },
  {
   "cell_type": "code",
   "execution_count": null,
   "metadata": {},
   "outputs": [],
   "source": [
    "\n",
    "# METEOR score to evaluate trnaslation quality (synonyms, alignment, stemming, etc.)\n",
    "def compute_meteor(translations, references):\n",
    "    scores = [meteor_score([ref.split()], trans.split()) for trans, ref in zip(translations, references)]\n",
    "    return sum(scores) / len(scores)\n",
    "\n",
    "# ROUGE score is sensitive to missing words which is useful for identifying missing words from translations\n",
    "def compute_rouge(translations, references):\n",
    "    scorer = rouge_scorer.RougeScorer(['rouge1', 'rouge2', 'rougeL'], use_stemmer=True)\n",
    "    scores = [scorer.score(ref, trans) for trans, ref in zip(translations, references)]\n",
    "    averaged_scores = {key: sum(score[key].fmeasure for score in scores) / len(scores) for key in scores[0]}\n",
    "    return averaged_scores\n",
    "\n",
    "# GLEU score to evaluate sentence level quality\n",
    "def compute_gleu(translations, references):\n",
    "    scores = [sentence_gleu([ref.split()], trans.split()) for trans, ref in zip(translations, references)]\n",
    "    return sum(scores) / len(scores)\n",
    "\n",
    "# TER score to evalute missing words, segment alignment, etc.\n",
    "def compute_ter(translations, references):\n",
    "    ter_score = sacrebleu.corpus_ter(translations, references).score\n",
    "    return ter_score\n",
    "\n",
    "# Edit Distance to identify misspelled words, punctuation, missing/extra word checking\n",
    "def compute_edit_distance(translations, references):\n",
    "    distances = [editdistance.eval(trans, ref) for trans, ref in zip(translations, references)]\n",
    "    return sum(distances) / len(distances)\n",
    "\n",
    "# precision and recall to measure how well the model captures keywords\n",
    "def compute_precision_recall(translations, references):\n",
    "    precisions = []\n",
    "    recalls = []\n",
    "    for trans, ref in zip(translations, references):\n",
    "        reference_tokens = set(ref.split())\n",
    "        translation_tokens = set(trans.split())\n",
    "        common_tokens = reference_tokens & translation_tokens\n",
    "        precision = len(common_tokens) / len(translation_tokens)\n",
    "        recall = len(common_tokens) / len(reference_tokens)\n",
    "        precisions.append(precision)\n",
    "        recalls.append(recall)\n",
    "    return sum(precisions) / len(precisions), sum(recalls) / len(recalls)\n",
    "\n",
    "# NIST score (weighting rare n-grams more heavily)\n",
    "def compute_nist(translations, references):\n",
    "    tokenized_translations = [trans.split() for trans in translations]\n",
    "    tokenized_references = [[ref.split()] for ref in references]\n",
    "    nist_score = corpus_nist(tokenized_references, tokenized_translations, n=5)  # Use n-gram size of 5\n",
    "    return nist_score\n",
    "\n",
    "\n",
    "# Compute scores  \n",
    "#scores[\"METEOR\"] = compute_meteor(pair_sys, pair_refs[0])\n",
    "rouge_scores = compute_rouge(pair_sys, pair_refs[0])\n",
    "for key, value in rouge_scores.items():\n",
    "    scores[f\"ROUGE-{key.upper()}\"] = value\n",
    "scores[\"GLEU\"] = compute_gleu(pair_sys, pair_refs[0])\n",
    "scores[\"TER\"] = compute_ter(pair_sys, pair_refs[0])\n",
    "scores[\"Edit Distance\"] = compute_edit_distance(pair_sys, pair_refs[0])\n",
    "precision, recall = compute_precision_recall(pair_sys, pair_refs[0])\n",
    "scores[\"Precision\"] = precision\n",
    "scores[\"Recall\"] = recall\n",
    "scores[\"NIST\"] = compute_nist(pair_sys, pair_refs[0])\n",
    "\n",
    "# Print the computed scores\n",
    "for score_name, score_value in scores.items():\n",
    "    print(f\"{score_name}: {score_value}\")\n",
    "\n"
   ]
  },
  {
   "cell_type": "code",
   "execution_count": null,
   "metadata": {},
   "outputs": [],
   "source": [
    "import json\n",
    "\n",
    "path = \"/Users/laura/llmResearch/scores/\"\n",
    "\n",
    "def save_to_jsonl(file_path, data, language):\n",
    "\n",
    "    data_with_language_name = {\"language\": language}\n",
    "    data_with_language_name.update(data)\n",
    "    \n",
    "    # Save scores to JSONL file and not overwritting existing rows\n",
    "    with open(file_path, 'a') as file:\n",
    "        file.write(json.dumps(data_with_language_name) + \"\\n\")\n",
    "\n",
    "data = scores\n",
    "file_path = path + language + \"_\" + dataset + \"_scores.jsonl\"\n",
    "save_to_jsonl(file_path, data, language)"
   ]
  },
  {
   "cell_type": "code",
   "execution_count": null,
   "metadata": {},
   "outputs": [],
   "source": []
  }
 ],
 "metadata": {
  "kernelspec": {
   "display_name": "Python 3",
   "language": "python",
   "name": "python3"
  },
  "language_info": {
   "codemirror_mode": {
    "name": "ipython",
    "version": 3
   },
   "file_extension": ".py",
   "mimetype": "text/x-python",
   "name": "python",
   "nbconvert_exporter": "python",
   "pygments_lexer": "ipython3",
   "version": "3.12.2"
  }
 },
 "nbformat": 4,
 "nbformat_minor": 2
}
