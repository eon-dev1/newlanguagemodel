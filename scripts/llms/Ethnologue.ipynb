{
 "cells": [
  {
   "cell_type": "markdown",
   "metadata": {},
   "source": [
    "Code to calculate related languages using geographical proximity from Ethnologue"
   ]
  },
  {
   "cell_type": "code",
   "execution_count": null,
   "metadata": {},
   "outputs": [],
   "source": [
    "%pip install openpyxl"
   ]
  },
  {
   "cell_type": "code",
   "execution_count": null,
   "metadata": {},
   "outputs": [],
   "source": [
    "# Exploring Ethnologue data\n",
    "import pandas as pd\n",
    "\n",
    "language = pd.read_excel(\"data/Ethnologue/Language.xlsx\")\n",
    "alternateName = pd.read_excel(\"data/Ethnologue/LanguageAlternateName.xlsx\")\n",
    "moreData = pd.read_excel(\"data/Ethnologue/LanguageEthnologAdditionalData.xlsx\")\n",
    "country = pd.read_excel(\"data/Ethnologue/LanguageInCountry.xlsx\")\n",
    "countryMoreData = pd.read_excel(\"data/Ethnologue/LanguageInCountryAddionalData.xlsx\")"
   ]
  },
  {
   "cell_type": "code",
   "execution_count": null,
   "metadata": {},
   "outputs": [],
   "source": [
    "# Show latitude and longitude of target language\n",
    "language[language.UnitName==\"Waima\"][[\"Latitude\",\"Longitude\"]]"
   ]
  },
  {
   "cell_type": "code",
   "execution_count": null,
   "metadata": {},
   "outputs": [],
   "source": [
    "lat = -8.6977 # location of Waima (from above)\n",
    "long = 146.56\n",
    "\n",
    "distances_squared = []\n",
    "for it,row in language.iterrows():\n",
    "  distances_squared.append((lat-row.Latitude)*(lat-row.Latitude) + (long-row.Longitude)*(long-row.Longitude))\n",
    "\n",
    "language[\"distance_squared\"] = distances_squared"
   ]
  },
  {
   "cell_type": "code",
   "execution_count": null,
   "metadata": {},
   "outputs": [],
   "source": [
    "# Find closest geographical languages\n",
    "language_codes = list(language.sort_values(by=\"distance_squared\")[language.primary_classification==\"Austronesian\"][:30][\"ISO_639_3Code\"])\n",
    "print([i for i in language_codes if i!=\"rro\"])"
   ]
  },
  {
   "cell_type": "code",
   "execution_count": null,
   "metadata": {},
   "outputs": [],
   "source": [
    "# Limit to Austronesian language family\n",
    "language.sort_values(by=\"distance_squared\")[language.primary_classification==\"Austronesian\"][:15]"
   ]
  },
  {
   "cell_type": "code",
   "execution_count": null,
   "metadata": {},
   "outputs": [],
   "source": [
    "# Read in information about full Bibles we have available on S drive\n",
    "full_bibles = pd.read_csv(\"data/multilingual_llm/full_bibles.csv\")"
   ]
  },
  {
   "cell_type": "code",
   "execution_count": null,
   "metadata": {},
   "outputs": [],
   "source": [
    "full_bibles = pd.merge(full_bibles,language,left_on=\"language\",right_on=\"ISO_639_3Code\")"
   ]
  },
  {
   "cell_type": "code",
   "execution_count": null,
   "metadata": {},
   "outputs": [],
   "source": [
    "full_bibles.sort_values(by=\"distance_squared\")[[\"language\",\"EthnologueName\",\"primary_classification\",\"distance_squared\",\"script\",'filepath']]"
   ]
  },
  {
   "cell_type": "code",
   "execution_count": null,
   "metadata": {},
   "outputs": [],
   "source": [
    "primary_classifications = []\n",
    "for it,row in language.iterrows():\n",
    "  print(row.Classification)\n",
    "  if row.Classification==row.Classification:\n",
    "    primary_classifications.append(row.Classification.split(',')[0])\n",
    "  else:\n",
    "    primary_classifications.append(\"\")\n",
    "language[\"primary_classification\"] = primary_classifications"
   ]
  },
  {
   "cell_type": "code",
   "execution_count": null,
   "metadata": {},
   "outputs": [],
   "source": [
    "language"
   ]
  },
  {
   "cell_type": "code",
   "execution_count": null,
   "metadata": {},
   "outputs": [],
   "source": []
  }
 ],
 "metadata": {
  "kernelspec": {
   "display_name": "base",
   "language": "python",
   "name": "python3"
  },
  "language_info": {
   "codemirror_mode": {
    "name": "ipython",
    "version": 3
   },
   "file_extension": ".py",
   "mimetype": "text/x-python",
   "name": "python",
   "nbconvert_exporter": "python",
   "pygments_lexer": "ipython3",
   "version": "3.12.2"
  }
 },
 "nbformat": 4,
 "nbformat_minor": 2
}
