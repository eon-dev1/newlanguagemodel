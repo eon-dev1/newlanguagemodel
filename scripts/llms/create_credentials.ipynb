{
 "cells": [
  {
   "cell_type": "code",
   "execution_count": null,
   "metadata": {},
   "outputs": [],
   "source": [
    "# A script to create a credentials.json file\n",
    "# (so credentials aren't in the code itself & don't get accidentally put on github)\n",
    "# fill in \"xxx\" strings  with your own credentials\n",
    "\n",
    "import json\n",
    "\n",
    "json_dict = {}\n",
    "json_dict['clearml'] = {}\n",
    "json_dict['clearml']['CLEARML_WEB_HOST'] = \"https://app.sil.hosted.allegro.ai/\"\n",
    "json_dict['clearml']['CLEARML_API_HOST'] = \"https://api.sil.hosted.allegro.ai\"\n",
    "json_dict['clearml']['CLEARML_FILES_HOST'] = \"https://files.sil.hosted.allegro.ai\"\n",
    "json_dict['clearml']['CLEARML_API_ACCESS_KEY'] = \"xxx\"\n",
    "json_dict['clearml']['CLEARML_API_SECRET_KEY'] = \"xxx\"\n",
    "json_dict['s3'] = {}\n",
    "json_dict['s3']['aws_access_key_id'] = \"xxx\"\n",
    "json_dict['s3']['aws_secret_access_key'] = \"xxx\"\n",
    "json_dict['s3']['bucket'] = \"silnlp\"\n",
    "json_dict['huggingface'] = {}\n",
    "json_dict['huggingface']['access_token'] = \"xxx\"\n",
    "\n",
    "with open('credentials.json','w') as outfile:\n",
    "  json.dump(json_dict,outfile)"
   ]
  }
 ],
 "metadata": {
  "language_info": {
   "name": "python"
  }
 },
 "nbformat": 4,
 "nbformat_minor": 2
}
